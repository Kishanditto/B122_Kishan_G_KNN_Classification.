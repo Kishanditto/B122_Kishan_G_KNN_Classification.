{
  "cells": [
    {
      "cell_type": "code",
      "execution_count": 126,
      "metadata": {
        "id": "d7asrzDo1H0K"
      },
      "outputs": [],
      "source": [
        "# Importing Data Analysis Librarys\n",
        "import numpy as np\n",
        "import pandas as pd\n",
        "import matplotlib.pyplot as plt\n",
        "\n",
        "import seaborn as sns\n",
        "%matplotlib inline\n",
        "import warnings\n",
        "warnings.filterwarnings('ignore')"
      ]
    },
    {
      "cell_type": "code",
      "execution_count": 127,
      "metadata": {
        "colab": {
          "base_uri": "https://localhost:8080/",
          "height": 250
        },
        "id": "J9m3ex401Q_g",
        "outputId": "e28e6fb6-19b8-4da1-ba79-dba76914d27f"
      },
      "outputs": [
        {
          "output_type": "execute_result",
          "data": {
            "text/plain": [
              "   age           job  marital  education default  balance housing loan  \\\n",
              "0   58    management  married   tertiary      no     2143     yes   no   \n",
              "1   44    technician   single  secondary      no       29     yes   no   \n",
              "2   33  entrepreneur  married  secondary      no        2     yes  yes   \n",
              "3   47   blue-collar  married    unknown      no     1506     yes   no   \n",
              "4   33       unknown   single    unknown      no        1      no   no   \n",
              "\n",
              "   contact  day month  duration  campaign  pdays  previous poutcome   y  \n",
              "0  unknown    5   may       261         1     -1         0  unknown  no  \n",
              "1  unknown    5   may       151         1     -1         0  unknown  no  \n",
              "2  unknown    5   may        76         1     -1         0  unknown  no  \n",
              "3  unknown    5   may        92         1     -1         0  unknown  no  \n",
              "4  unknown    5   may       198         1     -1         0  unknown  no  "
            ],
            "text/html": [
              "\n",
              "  <div id=\"df-f574b6bb-996a-4a87-b0c3-f1104441230e\">\n",
              "    <div class=\"colab-df-container\">\n",
              "      <div>\n",
              "<style scoped>\n",
              "    .dataframe tbody tr th:only-of-type {\n",
              "        vertical-align: middle;\n",
              "    }\n",
              "\n",
              "    .dataframe tbody tr th {\n",
              "        vertical-align: top;\n",
              "    }\n",
              "\n",
              "    .dataframe thead th {\n",
              "        text-align: right;\n",
              "    }\n",
              "</style>\n",
              "<table border=\"1\" class=\"dataframe\">\n",
              "  <thead>\n",
              "    <tr style=\"text-align: right;\">\n",
              "      <th></th>\n",
              "      <th>age</th>\n",
              "      <th>job</th>\n",
              "      <th>marital</th>\n",
              "      <th>education</th>\n",
              "      <th>default</th>\n",
              "      <th>balance</th>\n",
              "      <th>housing</th>\n",
              "      <th>loan</th>\n",
              "      <th>contact</th>\n",
              "      <th>day</th>\n",
              "      <th>month</th>\n",
              "      <th>duration</th>\n",
              "      <th>campaign</th>\n",
              "      <th>pdays</th>\n",
              "      <th>previous</th>\n",
              "      <th>poutcome</th>\n",
              "      <th>y</th>\n",
              "    </tr>\n",
              "  </thead>\n",
              "  <tbody>\n",
              "    <tr>\n",
              "      <th>0</th>\n",
              "      <td>58</td>\n",
              "      <td>management</td>\n",
              "      <td>married</td>\n",
              "      <td>tertiary</td>\n",
              "      <td>no</td>\n",
              "      <td>2143</td>\n",
              "      <td>yes</td>\n",
              "      <td>no</td>\n",
              "      <td>unknown</td>\n",
              "      <td>5</td>\n",
              "      <td>may</td>\n",
              "      <td>261</td>\n",
              "      <td>1</td>\n",
              "      <td>-1</td>\n",
              "      <td>0</td>\n",
              "      <td>unknown</td>\n",
              "      <td>no</td>\n",
              "    </tr>\n",
              "    <tr>\n",
              "      <th>1</th>\n",
              "      <td>44</td>\n",
              "      <td>technician</td>\n",
              "      <td>single</td>\n",
              "      <td>secondary</td>\n",
              "      <td>no</td>\n",
              "      <td>29</td>\n",
              "      <td>yes</td>\n",
              "      <td>no</td>\n",
              "      <td>unknown</td>\n",
              "      <td>5</td>\n",
              "      <td>may</td>\n",
              "      <td>151</td>\n",
              "      <td>1</td>\n",
              "      <td>-1</td>\n",
              "      <td>0</td>\n",
              "      <td>unknown</td>\n",
              "      <td>no</td>\n",
              "    </tr>\n",
              "    <tr>\n",
              "      <th>2</th>\n",
              "      <td>33</td>\n",
              "      <td>entrepreneur</td>\n",
              "      <td>married</td>\n",
              "      <td>secondary</td>\n",
              "      <td>no</td>\n",
              "      <td>2</td>\n",
              "      <td>yes</td>\n",
              "      <td>yes</td>\n",
              "      <td>unknown</td>\n",
              "      <td>5</td>\n",
              "      <td>may</td>\n",
              "      <td>76</td>\n",
              "      <td>1</td>\n",
              "      <td>-1</td>\n",
              "      <td>0</td>\n",
              "      <td>unknown</td>\n",
              "      <td>no</td>\n",
              "    </tr>\n",
              "    <tr>\n",
              "      <th>3</th>\n",
              "      <td>47</td>\n",
              "      <td>blue-collar</td>\n",
              "      <td>married</td>\n",
              "      <td>unknown</td>\n",
              "      <td>no</td>\n",
              "      <td>1506</td>\n",
              "      <td>yes</td>\n",
              "      <td>no</td>\n",
              "      <td>unknown</td>\n",
              "      <td>5</td>\n",
              "      <td>may</td>\n",
              "      <td>92</td>\n",
              "      <td>1</td>\n",
              "      <td>-1</td>\n",
              "      <td>0</td>\n",
              "      <td>unknown</td>\n",
              "      <td>no</td>\n",
              "    </tr>\n",
              "    <tr>\n",
              "      <th>4</th>\n",
              "      <td>33</td>\n",
              "      <td>unknown</td>\n",
              "      <td>single</td>\n",
              "      <td>unknown</td>\n",
              "      <td>no</td>\n",
              "      <td>1</td>\n",
              "      <td>no</td>\n",
              "      <td>no</td>\n",
              "      <td>unknown</td>\n",
              "      <td>5</td>\n",
              "      <td>may</td>\n",
              "      <td>198</td>\n",
              "      <td>1</td>\n",
              "      <td>-1</td>\n",
              "      <td>0</td>\n",
              "      <td>unknown</td>\n",
              "      <td>no</td>\n",
              "    </tr>\n",
              "  </tbody>\n",
              "</table>\n",
              "</div>\n",
              "      <button class=\"colab-df-convert\" onclick=\"convertToInteractive('df-f574b6bb-996a-4a87-b0c3-f1104441230e')\"\n",
              "              title=\"Convert this dataframe to an interactive table.\"\n",
              "              style=\"display:none;\">\n",
              "        \n",
              "  <svg xmlns=\"http://www.w3.org/2000/svg\" height=\"24px\"viewBox=\"0 0 24 24\"\n",
              "       width=\"24px\">\n",
              "    <path d=\"M0 0h24v24H0V0z\" fill=\"none\"/>\n",
              "    <path d=\"M18.56 5.44l.94 2.06.94-2.06 2.06-.94-2.06-.94-.94-2.06-.94 2.06-2.06.94zm-11 1L8.5 8.5l.94-2.06 2.06-.94-2.06-.94L8.5 2.5l-.94 2.06-2.06.94zm10 10l.94 2.06.94-2.06 2.06-.94-2.06-.94-.94-2.06-.94 2.06-2.06.94z\"/><path d=\"M17.41 7.96l-1.37-1.37c-.4-.4-.92-.59-1.43-.59-.52 0-1.04.2-1.43.59L10.3 9.45l-7.72 7.72c-.78.78-.78 2.05 0 2.83L4 21.41c.39.39.9.59 1.41.59.51 0 1.02-.2 1.41-.59l7.78-7.78 2.81-2.81c.8-.78.8-2.07 0-2.86zM5.41 20L4 18.59l7.72-7.72 1.47 1.35L5.41 20z\"/>\n",
              "  </svg>\n",
              "      </button>\n",
              "      \n",
              "  <style>\n",
              "    .colab-df-container {\n",
              "      display:flex;\n",
              "      flex-wrap:wrap;\n",
              "      gap: 12px;\n",
              "    }\n",
              "\n",
              "    .colab-df-convert {\n",
              "      background-color: #E8F0FE;\n",
              "      border: none;\n",
              "      border-radius: 50%;\n",
              "      cursor: pointer;\n",
              "      display: none;\n",
              "      fill: #1967D2;\n",
              "      height: 32px;\n",
              "      padding: 0 0 0 0;\n",
              "      width: 32px;\n",
              "    }\n",
              "\n",
              "    .colab-df-convert:hover {\n",
              "      background-color: #E2EBFA;\n",
              "      box-shadow: 0px 1px 2px rgba(60, 64, 67, 0.3), 0px 1px 3px 1px rgba(60, 64, 67, 0.15);\n",
              "      fill: #174EA6;\n",
              "    }\n",
              "\n",
              "    [theme=dark] .colab-df-convert {\n",
              "      background-color: #3B4455;\n",
              "      fill: #D2E3FC;\n",
              "    }\n",
              "\n",
              "    [theme=dark] .colab-df-convert:hover {\n",
              "      background-color: #434B5C;\n",
              "      box-shadow: 0px 1px 3px 1px rgba(0, 0, 0, 0.15);\n",
              "      filter: drop-shadow(0px 1px 2px rgba(0, 0, 0, 0.3));\n",
              "      fill: #FFFFFF;\n",
              "    }\n",
              "  </style>\n",
              "\n",
              "      <script>\n",
              "        const buttonEl =\n",
              "          document.querySelector('#df-f574b6bb-996a-4a87-b0c3-f1104441230e button.colab-df-convert');\n",
              "        buttonEl.style.display =\n",
              "          google.colab.kernel.accessAllowed ? 'block' : 'none';\n",
              "\n",
              "        async function convertToInteractive(key) {\n",
              "          const element = document.querySelector('#df-f574b6bb-996a-4a87-b0c3-f1104441230e');\n",
              "          const dataTable =\n",
              "            await google.colab.kernel.invokeFunction('convertToInteractive',\n",
              "                                                     [key], {});\n",
              "          if (!dataTable) return;\n",
              "\n",
              "          const docLinkHtml = 'Like what you see? Visit the ' +\n",
              "            '<a target=\"_blank\" href=https://colab.research.google.com/notebooks/data_table.ipynb>data table notebook</a>'\n",
              "            + ' to learn more about interactive tables.';\n",
              "          element.innerHTML = '';\n",
              "          dataTable['output_type'] = 'display_data';\n",
              "          await google.colab.output.renderOutput(dataTable, element);\n",
              "          const docLink = document.createElement('div');\n",
              "          docLink.innerHTML = docLinkHtml;\n",
              "          element.appendChild(docLink);\n",
              "        }\n",
              "      </script>\n",
              "    </div>\n",
              "  </div>\n",
              "  "
            ]
          },
          "metadata": {},
          "execution_count": 127
        }
      ],
      "source": [
        "\n",
        "bank = pd.read_csv('/content/Bank Client Deposit Data set Classification.csv')\n"
      ]
    },
    {
      "cell_type": "code",
      "execution_count": 128,
      "metadata": {
        "colab": {
          "base_uri": "https://localhost:8080/"
        },
        "id": "oZYuVlvGIgjG",
        "outputId": "7f27406a-a132-4e82-f43c-03d436d64a03"
      },
      "outputs": [
        {
          "output_type": "execute_result",
          "data": {
            "text/plain": [
              "(45211, 17)"
            ]
          },
          "metadata": {},
          "execution_count": 128
        }
      ],
      "source": [
        "bank.shape"
      ]
    },
    {
      "cell_type": "code",
      "execution_count": 129,
      "metadata": {
        "colab": {
          "base_uri": "https://localhost:8080/"
        },
        "id": "1phVv-agIlZd",
        "outputId": "fa700449-72f3-41a4-ef92-dc153dec7e3d"
      },
      "outputs": [
        {
          "output_type": "stream",
          "name": "stdout",
          "text": [
            "Class label counts: \n",
            " no     39922\n",
            "yes     5289\n",
            "Name: y, dtype: int64\n",
            "Class label percentages: \n",
            " no     88.30152\n",
            "yes    11.69848\n",
            "Name: y, dtype: float64\n",
            "The data is imbalanced\n"
          ]
        }
      ],
      "source": [
        "#to check whether that data is balanced or imbalanced\n",
        "#count the number of instances of each class label\n",
        "count=bank['y'].value_counts()\n",
        "#calculating the percentage of instances for each class label\n",
        "percentage=count/bank.shape[0]*100\n",
        "#printing the class label counts and percentages\n",
        "print(\"Class label counts: \\n\",count)\n",
        "print(\"Class label percentages: \\n\",percentage)\n",
        "#determining if the data is balanced or imbalanced\n",
        "if (percentage[0] < 60 and percentage[1] < 60) or (percentage[0] > 40 and percentage[1] > 40):\n",
        "    print(\"The data is balanced\")\n",
        "else:\n",
        "    print(\"The data is imbalanced\")"
      ]
    },
    {
      "cell_type": "code",
      "execution_count": 130,
      "metadata": {
        "colab": {
          "base_uri": "https://localhost:8080/"
        },
        "id": "d2MvvYut2D4I",
        "outputId": "d5707112-9826-4612-c098-fc67724fac64"
      },
      "outputs": [
        {
          "output_type": "stream",
          "name": "stdout",
          "text": [
            "<class 'pandas.core.frame.DataFrame'>\n",
            "RangeIndex: 45211 entries, 0 to 45210\n",
            "Data columns (total 17 columns):\n",
            " #   Column     Non-Null Count  Dtype \n",
            "---  ------     --------------  ----- \n",
            " 0   age        45211 non-null  int64 \n",
            " 1   job        45211 non-null  object\n",
            " 2   marital    45211 non-null  object\n",
            " 3   education  45211 non-null  object\n",
            " 4   default    45211 non-null  object\n",
            " 5   balance    45211 non-null  int64 \n",
            " 6   housing    45211 non-null  object\n",
            " 7   loan       45211 non-null  object\n",
            " 8   contact    45211 non-null  object\n",
            " 9   day        45211 non-null  int64 \n",
            " 10  month      45211 non-null  object\n",
            " 11  duration   45211 non-null  int64 \n",
            " 12  campaign   45211 non-null  int64 \n",
            " 13  pdays      45211 non-null  int64 \n",
            " 14  previous   45211 non-null  int64 \n",
            " 15  poutcome   45211 non-null  object\n",
            " 16  y          45211 non-null  object\n",
            "dtypes: int64(7), object(10)\n",
            "memory usage: 5.9+ MB\n"
          ]
        }
      ],
      "source": [
        "# take a look at the type, number of columns, entries, null values etc..\n",
        "bank.info()\n"
      ]
    },
    {
      "cell_type": "code",
      "execution_count": 131,
      "metadata": {
        "colab": {
          "base_uri": "https://localhost:8080/"
        },
        "id": "ePF4L3tm2aR8",
        "outputId": "45d6a730-4626-4f66-f117-38ac4f678a42"
      },
      "outputs": [
        {
          "output_type": "execute_result",
          "data": {
            "text/plain": [
              "Index(['age', 'job', 'marital', 'education', 'default', 'balance', 'housing',\n",
              "       'loan', 'contact', 'day', 'month', 'duration', 'campaign', 'pdays',\n",
              "       'previous', 'poutcome', 'y'],\n",
              "      dtype='object')"
            ]
          },
          "metadata": {},
          "execution_count": 131
        }
      ],
      "source": [
        "bank.columns"
      ]
    },
    {
      "cell_type": "code",
      "source": [],
      "metadata": {
        "id": "qJ-e0EFzKMzM"
      },
      "execution_count": null,
      "outputs": []
    },
    {
      "cell_type": "code",
      "execution_count": 132,
      "metadata": {
        "colab": {
          "base_uri": "https://localhost:8080/",
          "height": 250
        },
        "id": "CqYnTJLB3E3f",
        "outputId": "97dcc35c-a820-4cfd-e2c6-d71acc4096d8"
      },
      "outputs": [
        {
          "output_type": "execute_result",
          "data": {
            "text/plain": [
              "   age           job  marital  education default  balance housing loan  \\\n",
              "0   58    management  married   tertiary      no     2143     yes   no   \n",
              "1   44    technician   single  secondary      no       29     yes   no   \n",
              "2   33  entrepreneur  married  secondary      no        2     yes  yes   \n",
              "3   47   blue-collar  married    unknown      no     1506     yes   no   \n",
              "4   33       unknown   single    unknown      no        1      no   no   \n",
              "\n",
              "   contact  day month  duration  campaign  pdays  previous poutcome   y  \n",
              "0  unknown    5   may       261         1     -1         0  unknown  no  \n",
              "1  unknown    5   may       151         1     -1         0  unknown  no  \n",
              "2  unknown    5   may        76         1     -1         0  unknown  no  \n",
              "3  unknown    5   may        92         1     -1         0  unknown  no  \n",
              "4  unknown    5   may       198         1     -1         0  unknown  no  "
            ],
            "text/html": [
              "\n",
              "  <div id=\"df-450568b6-6f2b-4747-9d99-5a519790bac4\">\n",
              "    <div class=\"colab-df-container\">\n",
              "      <div>\n",
              "<style scoped>\n",
              "    .dataframe tbody tr th:only-of-type {\n",
              "        vertical-align: middle;\n",
              "    }\n",
              "\n",
              "    .dataframe tbody tr th {\n",
              "        vertical-align: top;\n",
              "    }\n",
              "\n",
              "    .dataframe thead th {\n",
              "        text-align: right;\n",
              "    }\n",
              "</style>\n",
              "<table border=\"1\" class=\"dataframe\">\n",
              "  <thead>\n",
              "    <tr style=\"text-align: right;\">\n",
              "      <th></th>\n",
              "      <th>age</th>\n",
              "      <th>job</th>\n",
              "      <th>marital</th>\n",
              "      <th>education</th>\n",
              "      <th>default</th>\n",
              "      <th>balance</th>\n",
              "      <th>housing</th>\n",
              "      <th>loan</th>\n",
              "      <th>contact</th>\n",
              "      <th>day</th>\n",
              "      <th>month</th>\n",
              "      <th>duration</th>\n",
              "      <th>campaign</th>\n",
              "      <th>pdays</th>\n",
              "      <th>previous</th>\n",
              "      <th>poutcome</th>\n",
              "      <th>y</th>\n",
              "    </tr>\n",
              "  </thead>\n",
              "  <tbody>\n",
              "    <tr>\n",
              "      <th>0</th>\n",
              "      <td>58</td>\n",
              "      <td>management</td>\n",
              "      <td>married</td>\n",
              "      <td>tertiary</td>\n",
              "      <td>no</td>\n",
              "      <td>2143</td>\n",
              "      <td>yes</td>\n",
              "      <td>no</td>\n",
              "      <td>unknown</td>\n",
              "      <td>5</td>\n",
              "      <td>may</td>\n",
              "      <td>261</td>\n",
              "      <td>1</td>\n",
              "      <td>-1</td>\n",
              "      <td>0</td>\n",
              "      <td>unknown</td>\n",
              "      <td>no</td>\n",
              "    </tr>\n",
              "    <tr>\n",
              "      <th>1</th>\n",
              "      <td>44</td>\n",
              "      <td>technician</td>\n",
              "      <td>single</td>\n",
              "      <td>secondary</td>\n",
              "      <td>no</td>\n",
              "      <td>29</td>\n",
              "      <td>yes</td>\n",
              "      <td>no</td>\n",
              "      <td>unknown</td>\n",
              "      <td>5</td>\n",
              "      <td>may</td>\n",
              "      <td>151</td>\n",
              "      <td>1</td>\n",
              "      <td>-1</td>\n",
              "      <td>0</td>\n",
              "      <td>unknown</td>\n",
              "      <td>no</td>\n",
              "    </tr>\n",
              "    <tr>\n",
              "      <th>2</th>\n",
              "      <td>33</td>\n",
              "      <td>entrepreneur</td>\n",
              "      <td>married</td>\n",
              "      <td>secondary</td>\n",
              "      <td>no</td>\n",
              "      <td>2</td>\n",
              "      <td>yes</td>\n",
              "      <td>yes</td>\n",
              "      <td>unknown</td>\n",
              "      <td>5</td>\n",
              "      <td>may</td>\n",
              "      <td>76</td>\n",
              "      <td>1</td>\n",
              "      <td>-1</td>\n",
              "      <td>0</td>\n",
              "      <td>unknown</td>\n",
              "      <td>no</td>\n",
              "    </tr>\n",
              "    <tr>\n",
              "      <th>3</th>\n",
              "      <td>47</td>\n",
              "      <td>blue-collar</td>\n",
              "      <td>married</td>\n",
              "      <td>unknown</td>\n",
              "      <td>no</td>\n",
              "      <td>1506</td>\n",
              "      <td>yes</td>\n",
              "      <td>no</td>\n",
              "      <td>unknown</td>\n",
              "      <td>5</td>\n",
              "      <td>may</td>\n",
              "      <td>92</td>\n",
              "      <td>1</td>\n",
              "      <td>-1</td>\n",
              "      <td>0</td>\n",
              "      <td>unknown</td>\n",
              "      <td>no</td>\n",
              "    </tr>\n",
              "    <tr>\n",
              "      <th>4</th>\n",
              "      <td>33</td>\n",
              "      <td>unknown</td>\n",
              "      <td>single</td>\n",
              "      <td>unknown</td>\n",
              "      <td>no</td>\n",
              "      <td>1</td>\n",
              "      <td>no</td>\n",
              "      <td>no</td>\n",
              "      <td>unknown</td>\n",
              "      <td>5</td>\n",
              "      <td>may</td>\n",
              "      <td>198</td>\n",
              "      <td>1</td>\n",
              "      <td>-1</td>\n",
              "      <td>0</td>\n",
              "      <td>unknown</td>\n",
              "      <td>no</td>\n",
              "    </tr>\n",
              "  </tbody>\n",
              "</table>\n",
              "</div>\n",
              "      <button class=\"colab-df-convert\" onclick=\"convertToInteractive('df-450568b6-6f2b-4747-9d99-5a519790bac4')\"\n",
              "              title=\"Convert this dataframe to an interactive table.\"\n",
              "              style=\"display:none;\">\n",
              "        \n",
              "  <svg xmlns=\"http://www.w3.org/2000/svg\" height=\"24px\"viewBox=\"0 0 24 24\"\n",
              "       width=\"24px\">\n",
              "    <path d=\"M0 0h24v24H0V0z\" fill=\"none\"/>\n",
              "    <path d=\"M18.56 5.44l.94 2.06.94-2.06 2.06-.94-2.06-.94-.94-2.06-.94 2.06-2.06.94zm-11 1L8.5 8.5l.94-2.06 2.06-.94-2.06-.94L8.5 2.5l-.94 2.06-2.06.94zm10 10l.94 2.06.94-2.06 2.06-.94-2.06-.94-.94-2.06-.94 2.06-2.06.94z\"/><path d=\"M17.41 7.96l-1.37-1.37c-.4-.4-.92-.59-1.43-.59-.52 0-1.04.2-1.43.59L10.3 9.45l-7.72 7.72c-.78.78-.78 2.05 0 2.83L4 21.41c.39.39.9.59 1.41.59.51 0 1.02-.2 1.41-.59l7.78-7.78 2.81-2.81c.8-.78.8-2.07 0-2.86zM5.41 20L4 18.59l7.72-7.72 1.47 1.35L5.41 20z\"/>\n",
              "  </svg>\n",
              "      </button>\n",
              "      \n",
              "  <style>\n",
              "    .colab-df-container {\n",
              "      display:flex;\n",
              "      flex-wrap:wrap;\n",
              "      gap: 12px;\n",
              "    }\n",
              "\n",
              "    .colab-df-convert {\n",
              "      background-color: #E8F0FE;\n",
              "      border: none;\n",
              "      border-radius: 50%;\n",
              "      cursor: pointer;\n",
              "      display: none;\n",
              "      fill: #1967D2;\n",
              "      height: 32px;\n",
              "      padding: 0 0 0 0;\n",
              "      width: 32px;\n",
              "    }\n",
              "\n",
              "    .colab-df-convert:hover {\n",
              "      background-color: #E2EBFA;\n",
              "      box-shadow: 0px 1px 2px rgba(60, 64, 67, 0.3), 0px 1px 3px 1px rgba(60, 64, 67, 0.15);\n",
              "      fill: #174EA6;\n",
              "    }\n",
              "\n",
              "    [theme=dark] .colab-df-convert {\n",
              "      background-color: #3B4455;\n",
              "      fill: #D2E3FC;\n",
              "    }\n",
              "\n",
              "    [theme=dark] .colab-df-convert:hover {\n",
              "      background-color: #434B5C;\n",
              "      box-shadow: 0px 1px 3px 1px rgba(0, 0, 0, 0.15);\n",
              "      filter: drop-shadow(0px 1px 2px rgba(0, 0, 0, 0.3));\n",
              "      fill: #FFFFFF;\n",
              "    }\n",
              "  </style>\n",
              "\n",
              "      <script>\n",
              "        const buttonEl =\n",
              "          document.querySelector('#df-450568b6-6f2b-4747-9d99-5a519790bac4 button.colab-df-convert');\n",
              "        buttonEl.style.display =\n",
              "          google.colab.kernel.accessAllowed ? 'block' : 'none';\n",
              "\n",
              "        async function convertToInteractive(key) {\n",
              "          const element = document.querySelector('#df-450568b6-6f2b-4747-9d99-5a519790bac4');\n",
              "          const dataTable =\n",
              "            await google.colab.kernel.invokeFunction('convertToInteractive',\n",
              "                                                     [key], {});\n",
              "          if (!dataTable) return;\n",
              "\n",
              "          const docLinkHtml = 'Like what you see? Visit the ' +\n",
              "            '<a target=\"_blank\" href=https://colab.research.google.com/notebooks/data_table.ipynb>data table notebook</a>'\n",
              "            + ' to learn more about interactive tables.';\n",
              "          element.innerHTML = '';\n",
              "          dataTable['output_type'] = 'display_data';\n",
              "          await google.colab.output.renderOutput(dataTable, element);\n",
              "          const docLink = document.createElement('div');\n",
              "          docLink.innerHTML = docLinkHtml;\n",
              "          element.appendChild(docLink);\n",
              "        }\n",
              "      </script>\n",
              "    </div>\n",
              "  </div>\n",
              "  "
            ]
          },
          "metadata": {},
          "execution_count": 132
        }
      ],
      "source": [
        "\n",
        "bank.head()"
      ]
    },
    {
      "cell_type": "markdown",
      "metadata": {
        "id": "OEMFRJxR3n7Z"
      },
      "source": [
        "## 1.1. Knowing the categorical variables\n",
        "\n"
      ]
    },
    {
      "cell_type": "code",
      "execution_count": 133,
      "metadata": {
        "colab": {
          "base_uri": "https://localhost:8080/"
        },
        "id": "VMG7I1843J4m",
        "outputId": "020748a8-748b-4ce9-f49e-4a0a795cff9b"
      },
      "outputs": [
        {
          "output_type": "stream",
          "name": "stdout",
          "text": [
            "Jobs:\n",
            " ['management' 'technician' 'entrepreneur' 'blue-collar' 'unknown'\n",
            " 'retired' 'admin.' 'services' 'self-employed' 'unemployed' 'housemaid'\n",
            " 'student']\n"
          ]
        }
      ],
      "source": [
        "# knowing the categorical variables\n",
        "print('Jobs:\\n', bank['job'].unique())"
      ]
    },
    {
      "cell_type": "code",
      "execution_count": 134,
      "metadata": {
        "colab": {
          "base_uri": "https://localhost:8080/"
        },
        "id": "lUouXSws3uhx",
        "outputId": "8ca62295-49a0-4378-8033-e591adf68e2d"
      },
      "outputs": [
        {
          "output_type": "stream",
          "name": "stdout",
          "text": [
            "Marital:\n",
            " ['married' 'single' 'divorced']\n"
          ]
        }
      ],
      "source": [
        "print('Marital:\\n', bank['marital'].unique())"
      ]
    },
    {
      "cell_type": "code",
      "execution_count": 135,
      "metadata": {
        "colab": {
          "base_uri": "https://localhost:8080/"
        },
        "id": "rFr_5-Cj3x3r",
        "outputId": "79b7c2f8-84d0-4b12-a39a-b8fabd9ba9ff"
      },
      "outputs": [
        {
          "output_type": "stream",
          "name": "stdout",
          "text": [
            "Education:\n",
            " ['tertiary' 'secondary' 'unknown' 'primary']\n"
          ]
        }
      ],
      "source": [
        "print('Education:\\n', bank['education'].unique())"
      ]
    },
    {
      "cell_type": "code",
      "execution_count": 136,
      "metadata": {
        "colab": {
          "base_uri": "https://localhost:8080/"
        },
        "id": "TXH-lmgj30jK",
        "outputId": "2299de60-a147-42ea-e670-b9125f323c2a"
      },
      "outputs": [
        {
          "output_type": "stream",
          "name": "stdout",
          "text": [
            "Default:\n",
            " ['no' 'yes']\n",
            "Housing:\n",
            " ['yes' 'no']\n",
            "Loan:\n",
            " ['no' 'yes']\n"
          ]
        }
      ],
      "source": [
        "print('Default:\\n', bank['default'].unique())\n",
        "print('Housing:\\n', bank['housing'].unique())\n",
        "print('Loan:\\n', bank['loan'].unique())"
      ]
    },
    {
      "cell_type": "code",
      "execution_count": 137,
      "metadata": {
        "colab": {
          "base_uri": "https://localhost:8080/"
        },
        "id": "rZ1cX_Pg36AN",
        "outputId": "981a46d4-f5cc-44ca-ed91-2470e05c7b6b"
      },
      "outputs": [
        {
          "output_type": "stream",
          "name": "stdout",
          "text": [
            "Contact:\n",
            " ['unknown' 'cellular' 'telephone']\n"
          ]
        }
      ],
      "source": [
        "print('Contact:\\n', bank['contact'].unique())"
      ]
    },
    {
      "cell_type": "code",
      "execution_count": 138,
      "metadata": {
        "colab": {
          "base_uri": "https://localhost:8080/"
        },
        "id": "7olpx1Ao6WAR",
        "outputId": "84b5af9f-934b-4433-d757-8d98723250e3"
      },
      "outputs": [
        {
          "output_type": "stream",
          "name": "stdout",
          "text": [
            "Month:\n",
            " ['may' 'jun' 'jul' 'aug' 'oct' 'nov' 'dec' 'jan' 'feb' 'mar' 'apr' 'sep']\n"
          ]
        }
      ],
      "source": [
        "print('Month:\\n', bank['month'].unique())"
      ]
    },
    {
      "cell_type": "code",
      "execution_count": 139,
      "metadata": {
        "colab": {
          "base_uri": "https://localhost:8080/"
        },
        "id": "EFtskjGD6s3w",
        "outputId": "932e79ea-74a9-4277-87fa-746e6e5f317d"
      },
      "outputs": [
        {
          "output_type": "stream",
          "name": "stdout",
          "text": [
            "Poutcome:\n",
            " ['unknown' 'failure' 'other' 'success']\n"
          ]
        }
      ],
      "source": [
        "print('Poutcome:\\n', bank['poutcome'].unique())"
      ]
    },
    {
      "cell_type": "code",
      "execution_count": 140,
      "metadata": {
        "colab": {
          "base_uri": "https://localhost:8080/"
        },
        "id": "3lxOQfmH6vns",
        "outputId": "28c77e5f-7752-4d19-c29b-8fdf4c170995"
      },
      "outputs": [
        {
          "output_type": "stream",
          "name": "stdout",
          "text": [
            "Y:\n",
            " ['no' 'yes']\n"
          ]
        }
      ],
      "source": [
        "print('Y:\\n', bank['y'].unique())"
      ]
    },
    {
      "cell_type": "code",
      "source": [
        "# Select the categorical and numerical features\n",
        "cat_features = ['job', 'marital', 'education', 'default', 'housing', 'loan', 'contact', 'month', 'poutcome', 'y']\n",
        "num_features = ['age', 'balance', 'day', 'duration', 'campaign', 'pdays', 'previous']\n",
        "\n",
        "# Generate a cross-tabulation table for the categorical features\n",
        "fig, axs = plt.subplots(nrows=2, ncols=5, figsize=(20, 8))\n",
        "for i, feature in enumerate(cat_features):\n",
        "    ct = pd.crosstab(index=bank[feature], columns='count')\n",
        "    ax = axs[i // 5, i % 5]\n",
        "    ct.plot(kind='bar', legend=None, ax=ax)  # set the color of the bars to blue\n",
        "    ax.set_title(feature)\n",
        "plt.tight_layout()\n",
        "plt.show()\n"
      ],
      "metadata": {
        "colab": {
          "base_uri": "https://localhost:8080/",
          "height": 459
        },
        "id": "pOwBXJGoy2jt",
        "outputId": "d1ee8e70-ba2a-4f84-dc4b-48ee1208df7f"
      },
      "execution_count": 141,
      "outputs": [
        {
          "output_type": "display_data",
          "data": {
            "text/plain": [
              "<Figure size 1440x576 with 10 Axes>"
            ],
            "image/png": "[encoded data removed]"
          },
          "metadata": {
            "needs_background": "light"
          }
        }
      ]
    },
    {
      "cell_type": "code",
      "source": [
        "sns.boxplot(data=bank, x='marital', y='age')\n",
        "plt.show()\n",
        "\n"
      ],
      "metadata": {
        "colab": {
          "base_uri": "https://localhost:8080/",
          "height": 279
        },
        "id": "omGQZys-zJ1V",
        "outputId": "ebe73c39-1e3b-475e-e94e-ed73cc7dd410"
      },
      "execution_count": 144,
      "outputs": [
        {
          "output_type": "display_data",
          "data": {
            "text/plain": [
              "<Figure size 432x288 with 1 Axes>"
            ],
            "image/png": "[encoded data removed]"
          },
          "metadata": {
            "needs_background": "light"
          }
        }
      ]
    },
    {
      "cell_type": "code",
      "source": [
        "sns.boxplot(data=bank, x='education', y='age')\n",
        "plt.show()"
      ],
      "metadata": {
        "colab": {
          "base_uri": "https://localhost:8080/",
          "height": 279
        },
        "id": "0cqEDiVGz2vt",
        "outputId": "8c02a16b-d9d3-49b9-c9e6-e0d74a853019"
      },
      "execution_count": 145,
      "outputs": [
        {
          "output_type": "display_data",
          "data": {
            "text/plain": [
              "<Figure size 432x288 with 1 Axes>"
            ],
            "image/png": "[encoded data removed]"
          },
          "metadata": {
            "needs_background": "light"
          }
        }
      ]
    },
    {
      "cell_type": "code",
      "execution_count": 146,
      "metadata": {
        "colab": {
          "base_uri": "https://localhost:8080/"
        },
        "id": "KwxunbJO7urb",
        "outputId": "ae5930e7-afc3-477a-d2f5-c7657ed70cf5"
      },
      "outputs": [
        {
          "output_type": "stream",
          "name": "stdout",
          "text": [
            "   age  balance  day  duration  campaign  pdays  previous   y  job_admin.  \\\n",
            "0   58     2143    5       261         1     -1         0  no           0   \n",
            "1   44       29    5       151         1     -1         0  no           0   \n",
            "2   33        2    5        76         1     -1         0  no           0   \n",
            "3   47     1506    5        92         1     -1         0  no           0   \n",
            "4   33        1    5       198         1     -1         0  no           0   \n",
            "\n",
            "   job_blue-collar  ...  month_jun  month_mar  month_may  month_nov  \\\n",
            "0                0  ...          0          0          1          0   \n",
            "1                0  ...          0          0          1          0   \n",
            "2                0  ...          0          0          1          0   \n",
            "3                1  ...          0          0          1          0   \n",
            "4                0  ...          0          0          1          0   \n",
            "\n",
            "   month_oct  month_sep  poutcome_failure  poutcome_other  poutcome_success  \\\n",
            "0          0          0                 0               0                 0   \n",
            "1          0          0                 0               0                 0   \n",
            "2          0          0                 0               0                 0   \n",
            "3          0          0                 0               0                 0   \n",
            "4          0          0                 0               0                 0   \n",
            "\n",
            "   poutcome_unknown  \n",
            "0                 1  \n",
            "1                 1  \n",
            "2                 1  \n",
            "3                 1  \n",
            "4                 1  \n",
            "\n",
            "[5 rows x 52 columns]\n"
          ]
        }
      ],
      "source": [
        "# Define categorical columns\n",
        "cat_columns = ['job', 'marital', 'education', 'default', 'housing', 'loan', 'contact', 'month', 'poutcome']\n",
        "\n",
        "# One-hot encode categorical columns\n",
        "bank = pd.get_dummies(bank, columns=cat_columns)\n",
        "\n",
        "# Print the modified dataframe\n",
        "print(bank.head())\n"
      ]
    },
    {
      "cell_type": "code",
      "execution_count": 147,
      "metadata": {
        "colab": {
          "base_uri": "https://localhost:8080/"
        },
        "id": "5QYbjVJdB6BQ",
        "outputId": "653c0fb3-d991-4265-b968-301b5527ecb4"
      },
      "outputs": [
        {
          "output_type": "execute_result",
          "data": {
            "text/plain": [
              "(45211, 52)"
            ]
          },
          "metadata": {},
          "execution_count": 147
        }
      ],
      "source": [
        "bank.shape"
      ]
    },
    {
      "cell_type": "code",
      "execution_count": 148,
      "metadata": {
        "colab": {
          "base_uri": "https://localhost:8080/"
        },
        "id": "93sXbbFWwGIA",
        "outputId": "816f0d05-225d-4d94-9590-277adc66fe6e"
      },
      "outputs": [
        {
          "output_type": "stream",
          "name": "stdout",
          "text": [
            "       age  balance  day  duration  campaign  pdays  previous  job_admin.  \\\n",
            "0       58     2143    5       261         1     -1         0           0   \n",
            "1       44       29    5       151         1     -1         0           0   \n",
            "2       33        2    5        76         1     -1         0           0   \n",
            "3       47     1506    5        92         1     -1         0           0   \n",
            "4       33        1    5       198         1     -1         0           0   \n",
            "...    ...      ...  ...       ...       ...    ...       ...         ...   \n",
            "45206   51      825   17       977         3     -1         0           0   \n",
            "45207   71     1729   17       456         2     -1         0           0   \n",
            "45208   72     5715   17      1127         5    184         3           0   \n",
            "45209   57      668   17       508         4     -1         0           0   \n",
            "45210   37     2971   17       361      4552    188        11           0   \n",
            "\n",
            "       job_blue-collar  job_entrepreneur  ...  month_mar  month_may  \\\n",
            "0                    0                 0  ...          0          1   \n",
            "1                    0                 0  ...          0          1   \n",
            "2                    0                 1  ...          0          1   \n",
            "3                    1                 0  ...          0          1   \n",
            "4                    0                 0  ...          0          1   \n",
            "...                ...               ...  ...        ...        ...   \n",
            "45206                0                 0  ...          0          0   \n",
            "45207                0                 0  ...          0          0   \n",
            "45208                0                 0  ...          0          0   \n",
            "45209                1                 0  ...          0          0   \n",
            "45210                0                 1  ...          0          0   \n",
            "\n",
            "       month_nov  month_oct  month_sep  poutcome_failure  poutcome_other  \\\n",
            "0              0          0          0                 0               0   \n",
            "1              0          0          0                 0               0   \n",
            "2              0          0          0                 0               0   \n",
            "3              0          0          0                 0               0   \n",
            "4              0          0          0                 0               0   \n",
            "...          ...        ...        ...               ...             ...   \n",
            "45206          1          0          0                 0               0   \n",
            "45207          1          0          0                 0               0   \n",
            "45208          1          0          0                 0               0   \n",
            "45209          1          0          0                 0               0   \n",
            "45210          1          0          0                 0               1   \n",
            "\n",
            "       poutcome_success  poutcome_unknown  y  \n",
            "0                     0                 1  0  \n",
            "1                     0                 1  0  \n",
            "2                     0                 1  0  \n",
            "3                     0                 1  0  \n",
            "4                     0                 1  0  \n",
            "...                 ...               ... ..  \n",
            "45206                 0                 1  1  \n",
            "45207                 0                 1  1  \n",
            "45208                 1                 0  1  \n",
            "45209                 0                 1  0  \n",
            "45210                 0                 0  0  \n",
            "\n",
            "[45211 rows x 52 columns]\n"
          ]
        }
      ],
      "source": [
        "# Define a mapping of label to integer values\n",
        "label_map = {'no': 0, 'yes': 1}\n",
        "\n",
        "# Apply label encoding to column 'y'\n",
        "bank['y'] = bank['y'].apply(lambda x: label_map[x])\n",
        "\n",
        "# Move the 'y' column to the last position\n",
        "cols = bank.columns.tolist()\n",
        "cols.remove('y')\n",
        "cols.append('y')\n",
        "bank = bank[cols]\n",
        "\n",
        "# Print the updated dataframe\n",
        "print(bank)\n"
      ]
    },
    {
      "cell_type": "code",
      "execution_count": 149,
      "metadata": {
        "colab": {
          "base_uri": "https://localhost:8080/"
        },
        "id": "k-B8ExcrB-QV",
        "outputId": "52a3086d-1bd7-424c-ceda-0d1198c6fa4a"
      },
      "outputs": [
        {
          "output_type": "execute_result",
          "data": {
            "text/plain": [
              "age                    int64\n",
              "balance                int64\n",
              "day                    int64\n",
              "duration               int64\n",
              "campaign               int64\n",
              "pdays                  int64\n",
              "previous               int64\n",
              "job_admin.             uint8\n",
              "job_blue-collar        uint8\n",
              "job_entrepreneur       uint8\n",
              "job_housemaid          uint8\n",
              "job_management         uint8\n",
              "job_retired            uint8\n",
              "job_self-employed      uint8\n",
              "job_services           uint8\n",
              "job_student            uint8\n",
              "job_technician         uint8\n",
              "job_unemployed         uint8\n",
              "job_unknown            uint8\n",
              "marital_divorced       uint8\n",
              "marital_married        uint8\n",
              "marital_single         uint8\n",
              "education_primary      uint8\n",
              "education_secondary    uint8\n",
              "education_tertiary     uint8\n",
              "education_unknown      uint8\n",
              "default_no             uint8\n",
              "default_yes            uint8\n",
              "housing_no             uint8\n",
              "housing_yes            uint8\n",
              "loan_no                uint8\n",
              "loan_yes               uint8\n",
              "contact_cellular       uint8\n",
              "contact_telephone      uint8\n",
              "contact_unknown        uint8\n",
              "month_apr              uint8\n",
              "month_aug              uint8\n",
              "month_dec              uint8\n",
              "month_feb              uint8\n",
              "month_jan              uint8\n",
              "month_jul              uint8\n",
              "month_jun              uint8\n",
              "month_mar              uint8\n",
              "month_may              uint8\n",
              "month_nov              uint8\n",
              "month_oct              uint8\n",
              "month_sep              uint8\n",
              "poutcome_failure       uint8\n",
              "poutcome_other         uint8\n",
              "poutcome_success       uint8\n",
              "poutcome_unknown       uint8\n",
              "y                      int64\n",
              "dtype: object"
            ]
          },
          "metadata": {},
          "execution_count": 149
        }
      ],
      "source": [
        "bank.dtypes"
      ]
    },
    {
      "cell_type": "code",
      "execution_count": 150,
      "metadata": {
        "colab": {
          "base_uri": "https://localhost:8080/"
        },
        "id": "_mkui-NxDIPG",
        "outputId": "e70da4e1-7248-4ed9-85fc-78ad141186c4"
      },
      "outputs": [
        {
          "output_type": "stream",
          "name": "stdout",
          "text": [
            "Total outliers: age                     381\n",
            "balance                 745\n",
            "day                       0\n",
            "duration                963\n",
            "campaign                 20\n",
            "pdays                  1723\n",
            "previous                582\n",
            "job_admin.                0\n",
            "job_blue-collar           0\n",
            "job_entrepreneur       1487\n",
            "job_housemaid          1240\n",
            "job_management            0\n",
            "job_retired            2264\n",
            "job_self-employed      1579\n",
            "job_services           4154\n",
            "job_student             938\n",
            "job_technician            0\n",
            "job_unemployed         1303\n",
            "job_unknown             288\n",
            "marital_divorced          0\n",
            "marital_married           0\n",
            "marital_single            0\n",
            "education_primary         0\n",
            "education_secondary       0\n",
            "education_tertiary        0\n",
            "education_unknown      1857\n",
            "default_no              815\n",
            "default_yes             815\n",
            "housing_no                0\n",
            "housing_yes               0\n",
            "loan_no                   0\n",
            "loan_yes                  0\n",
            "contact_cellular          0\n",
            "contact_telephone      2906\n",
            "contact_unknown           0\n",
            "month_apr              2932\n",
            "month_aug                 0\n",
            "month_dec               214\n",
            "month_feb              2649\n",
            "month_jan              1403\n",
            "month_jul                 0\n",
            "month_jun                 0\n",
            "month_mar               477\n",
            "month_may                 0\n",
            "month_nov              3970\n",
            "month_oct               738\n",
            "month_sep               579\n",
            "poutcome_failure          0\n",
            "poutcome_other         1840\n",
            "poutcome_success       1511\n",
            "poutcome_unknown          0\n",
            "y                         0\n",
            "dtype: int64\n",
            "Outliers per column:\n",
            "age: 381\n",
            "balance: 745\n",
            "day: 0\n",
            "duration: 963\n",
            "campaign: 20\n",
            "pdays: 1723\n",
            "previous: 582\n",
            "job_admin.: 0\n",
            "job_blue-collar: 0\n",
            "job_entrepreneur: 1487\n",
            "job_housemaid: 1240\n",
            "job_management: 0\n",
            "job_retired: 2264\n",
            "job_self-employed: 1579\n",
            "job_services: 4154\n",
            "job_student: 938\n",
            "job_technician: 0\n",
            "job_unemployed: 1303\n",
            "job_unknown: 288\n",
            "marital_divorced: 0\n",
            "marital_married: 0\n",
            "marital_single: 0\n",
            "education_primary: 0\n",
            "education_secondary: 0\n",
            "education_tertiary: 0\n",
            "education_unknown: 1857\n",
            "default_no: 815\n",
            "default_yes: 815\n",
            "housing_no: 0\n",
            "housing_yes: 0\n",
            "loan_no: 0\n",
            "loan_yes: 0\n",
            "contact_cellular: 0\n",
            "contact_telephone: 2906\n",
            "contact_unknown: 0\n",
            "month_apr: 2932\n",
            "month_aug: 0\n",
            "month_dec: 214\n",
            "month_feb: 2649\n",
            "month_jan: 1403\n",
            "month_jul: 0\n",
            "month_jun: 0\n",
            "month_mar: 477\n",
            "month_may: 0\n",
            "month_nov: 3970\n",
            "month_oct: 738\n",
            "month_sep: 579\n",
            "poutcome_failure: 0\n",
            "poutcome_other: 1840\n",
            "poutcome_success: 1511\n",
            "poutcome_unknown: 0\n",
            "y: 0\n"
          ]
        }
      ],
      "source": [
        "# Calculate Z-scores for each column\n",
        "z_scores = (bank - bank.mean()) / bank.std()\n",
        "\n",
        "# Find outliers (|Z-score| > 3)\n",
        "outliers = np.abs(z_scores) > 3\n",
        "\n",
        "# Find total number of outliers for each column and in total\n",
        "total_outliers = outliers.sum()\n",
        "col_outliers = outliers.sum(axis=0)\n",
        "\n",
        "print(\"Total outliers:\", total_outliers)\n",
        "print(\"Outliers per column:\")\n",
        "for col in bank.columns:\n",
        "    print(f\"{col}: {col_outliers[col]}\")"
      ]
    },
    {
      "cell_type": "code",
      "execution_count": 151,
      "metadata": {
        "colab": {
          "base_uri": "https://localhost:8080/"
        },
        "id": "Lf4JQGVhMpBq",
        "outputId": "a164e926-c480-47a0-c869-3f1506bb1d28"
      },
      "outputs": [
        {
          "output_type": "stream",
          "name": "stdout",
          "text": [
            "Total outliers after replacement: age                     106\n",
            "balance                1261\n",
            "day                       0\n",
            "duration                975\n",
            "campaign                840\n",
            "pdays                  1866\n",
            "previous               1655\n",
            "job_admin.                0\n",
            "job_blue-collar           0\n",
            "job_entrepreneur          0\n",
            "job_housemaid             0\n",
            "job_management            0\n",
            "job_retired               0\n",
            "job_self-employed         0\n",
            "job_services              0\n",
            "job_student               0\n",
            "job_technician            0\n",
            "job_unemployed            0\n",
            "job_unknown               0\n",
            "marital_divorced          0\n",
            "marital_married           0\n",
            "marital_single            0\n",
            "education_primary         0\n",
            "education_secondary       0\n",
            "education_tertiary        0\n",
            "education_unknown         0\n",
            "default_no                0\n",
            "default_yes               0\n",
            "housing_no                0\n",
            "housing_yes               0\n",
            "loan_no                   0\n",
            "loan_yes                  0\n",
            "contact_cellular          0\n",
            "contact_telephone         0\n",
            "contact_unknown           0\n",
            "month_apr                 0\n",
            "month_aug                 0\n",
            "month_dec                 0\n",
            "month_feb                 0\n",
            "month_jan                 0\n",
            "month_jul                 0\n",
            "month_jun                 0\n",
            "month_mar                 0\n",
            "month_may                 0\n",
            "month_nov                 0\n",
            "month_oct                 0\n",
            "month_sep                 0\n",
            "poutcome_failure          0\n",
            "poutcome_other            0\n",
            "poutcome_success          0\n",
            "poutcome_unknown          0\n",
            "y                         0\n",
            "dtype: int64\n",
            "Outliers per column after replacement:\n",
            "age: 106\n",
            "balance: 1261\n",
            "day: 0\n",
            "duration: 975\n",
            "campaign: 840\n",
            "pdays: 1866\n",
            "previous: 1655\n",
            "job_admin.: 0\n",
            "job_blue-collar: 0\n",
            "job_entrepreneur: 0\n",
            "job_housemaid: 0\n",
            "job_management: 0\n",
            "job_retired: 0\n",
            "job_self-employed: 0\n",
            "job_services: 0\n",
            "job_student: 0\n",
            "job_technician: 0\n",
            "job_unemployed: 0\n",
            "job_unknown: 0\n",
            "marital_divorced: 0\n",
            "marital_married: 0\n",
            "marital_single: 0\n",
            "education_primary: 0\n",
            "education_secondary: 0\n",
            "education_tertiary: 0\n",
            "education_unknown: 0\n",
            "default_no: 0\n",
            "default_yes: 0\n",
            "housing_no: 0\n",
            "housing_yes: 0\n",
            "loan_no: 0\n",
            "loan_yes: 0\n",
            "contact_cellular: 0\n",
            "contact_telephone: 0\n",
            "contact_unknown: 0\n",
            "month_apr: 0\n",
            "month_aug: 0\n",
            "month_dec: 0\n",
            "month_feb: 0\n",
            "month_jan: 0\n",
            "month_jul: 0\n",
            "month_jun: 0\n",
            "month_mar: 0\n",
            "month_may: 0\n",
            "month_nov: 0\n",
            "month_oct: 0\n",
            "month_sep: 0\n",
            "poutcome_failure: 0\n",
            "poutcome_other: 0\n",
            "poutcome_success: 0\n",
            "poutcome_unknown: 0\n",
            "y: 0\n"
          ]
        }
      ],
      "source": [
        "\n",
        "# Replace outliers with median value of the corresponding column\n",
        "for col in bank.columns:\n",
        "    col_median = bank[col].median()\n",
        "    bank.loc[outliers[col], col] = col_median\n",
        "\n",
        "# Verify the number of outliers after replacement\n",
        "z_scores = (bank - bank.mean()) / bank.std()\n",
        "outliers = np.abs(z_scores) > 3\n",
        "total_outliers = outliers.sum()\n",
        "col_outliers = outliers.sum(axis=0)\n",
        "print(\"Total outliers after replacement:\", total_outliers)\n",
        "print(\"Outliers per column after replacement:\")\n",
        "for col in bank.columns:\n",
        "    print(f\"{col}: {col_outliers[col]}\")\n"
      ]
    },
    {
      "cell_type": "code",
      "execution_count": 152,
      "metadata": {
        "colab": {
          "base_uri": "https://localhost:8080/"
        },
        "id": "smsYPZPnU5dB",
        "outputId": "8a3e8f45-a0a9-4234-ab7e-2e3d7513ed6a"
      },
      "outputs": [
        {
          "output_type": "stream",
          "name": "stdout",
          "text": [
            "       age  balance  day  duration  campaign  pdays  previous  job_admin.  \\\n",
            "0       58     2143    5       261         1     -1         0           0   \n",
            "1       44       29    5       151         1     -1         0           0   \n",
            "2       33        2    5        76         1     -1         0           0   \n",
            "3       47     1506    5        92         1     -1         0           0   \n",
            "4       33        1    5       198         1     -1         0           0   \n",
            "...    ...      ...  ...       ...       ...    ...       ...         ...   \n",
            "45206   51      825   17       977         3     -1         0           0   \n",
            "45207   71     1729   17       456         2     -1         0           0   \n",
            "45208   72     5715   17       180         5    184         3           0   \n",
            "45209   57      668   17       508         4     -1         0           0   \n",
            "45210   37     2971   17       361         2    188         0           0   \n",
            "\n",
            "       job_blue-collar  job_entrepreneur  ...  month_mar  month_may  \\\n",
            "0                    0                 0  ...          0          1   \n",
            "1                    0                 0  ...          0          1   \n",
            "2                    0                 0  ...          0          1   \n",
            "3                    1                 0  ...          0          1   \n",
            "4                    0                 0  ...          0          1   \n",
            "...                ...               ...  ...        ...        ...   \n",
            "45206                0                 0  ...          0          0   \n",
            "45207                0                 0  ...          0          0   \n",
            "45208                0                 0  ...          0          0   \n",
            "45209                1                 0  ...          0          0   \n",
            "45210                0                 0  ...          0          0   \n",
            "\n",
            "       month_nov  month_oct  month_sep  poutcome_failure  poutcome_other  \\\n",
            "0              0          0          0                 0               0   \n",
            "1              0          0          0                 0               0   \n",
            "2              0          0          0                 0               0   \n",
            "3              0          0          0                 0               0   \n",
            "4              0          0          0                 0               0   \n",
            "...          ...        ...        ...               ...             ...   \n",
            "45206          0          0          0                 0               0   \n",
            "45207          0          0          0                 0               0   \n",
            "45208          0          0          0                 0               0   \n",
            "45209          0          0          0                 0               0   \n",
            "45210          0          0          0                 0               0   \n",
            "\n",
            "       poutcome_success  poutcome_unknown  y  \n",
            "0                     0                 1  0  \n",
            "1                     0                 1  0  \n",
            "2                     0                 1  0  \n",
            "3                     0                 1  0  \n",
            "4                     0                 1  0  \n",
            "...                 ...               ... ..  \n",
            "45206                 0                 1  1  \n",
            "45207                 0                 1  1  \n",
            "45208                 0                 0  1  \n",
            "45209                 0                 1  0  \n",
            "45210                 0                 0  0  \n",
            "\n",
            "[45211 rows x 52 columns]\n"
          ]
        }
      ],
      "source": [
        "print(bank)"
      ]
    },
    {
      "cell_type": "code",
      "execution_count": 153,
      "metadata": {
        "colab": {
          "base_uri": "https://localhost:8080/"
        },
        "id": "938WER0dIEle",
        "outputId": "56623aa3-d795-4049-8ce6-6765920cf4ce"
      },
      "outputs": [
        {
          "output_type": "execute_result",
          "data": {
            "text/plain": [
              "(45211, 52)"
            ]
          },
          "metadata": {},
          "execution_count": 153
        }
      ],
      "source": [
        "bank.shape"
      ]
    },
    {
      "cell_type": "code",
      "execution_count": 154,
      "metadata": {
        "id": "uxz5sMPEtCiI"
      },
      "outputs": [],
      "source": [
        "# Select the independent variables\n",
        "X = bank.iloc[:, :-1]  # all columns except the last two\n",
        "\n",
        "# Select the dependent variable\n",
        "y = bank.iloc[:, -1]   # last column only"
      ]
    },
    {
      "cell_type": "code",
      "execution_count": 155,
      "metadata": {
        "id": "fZCdTLTntDPb"
      },
      "outputs": [],
      "source": [
        "X=np.array(X) # converting X into numpy array\n",
        "y=np.array(y) # converting y into numpy array"
      ]
    },
    {
      "cell_type": "code",
      "execution_count": 156,
      "metadata": {
        "colab": {
          "base_uri": "https://localhost:8080/"
        },
        "id": "NYlUwwlatLZ2",
        "outputId": "71bb11a0-cce3-4f2c-aa3f-dbc7e600a7f7"
      },
      "outputs": [
        {
          "output_type": "stream",
          "name": "stdout",
          "text": [
            "[[  58 2143    5 ...    0    0    1]\n",
            " [  44   29    5 ...    0    0    1]\n",
            " [  33    2    5 ...    0    0    1]\n",
            " ...\n",
            " [  72 5715   17 ...    0    0    0]\n",
            " [  57  668   17 ...    0    0    1]\n",
            " [  37 2971   17 ...    0    0    0]]\n"
          ]
        }
      ],
      "source": [
        "print(X)"
      ]
    },
    {
      "cell_type": "code",
      "execution_count": 157,
      "metadata": {
        "colab": {
          "base_uri": "https://localhost:8080/"
        },
        "id": "hvFQU4LGtP2J",
        "outputId": "04329877-b870-47fc-a08e-86d353b01a84"
      },
      "outputs": [
        {
          "output_type": "stream",
          "name": "stdout",
          "text": [
            "[0 0 0 ... 1 0 0]\n"
          ]
        }
      ],
      "source": [
        "print(y)"
      ]
    },
    {
      "cell_type": "code",
      "execution_count": 158,
      "metadata": {
        "colab": {
          "base_uri": "https://localhost:8080/"
        },
        "id": "6yHD4WjPtPwO",
        "outputId": "610814f3-52f6-4a45-97eb-d99c0c6bd6f3"
      },
      "outputs": [
        {
          "output_type": "execute_result",
          "data": {
            "text/plain": [
              "(45211, 51)"
            ]
          },
          "metadata": {},
          "execution_count": 158
        }
      ],
      "source": [
        "X.shape"
      ]
    },
    {
      "cell_type": "code",
      "execution_count": 159,
      "metadata": {
        "colab": {
          "base_uri": "https://localhost:8080/"
        },
        "id": "9JRUna1LtPsd",
        "outputId": "e75d7254-a725-4dab-ea7c-ffb4def567c8"
      },
      "outputs": [
        {
          "output_type": "execute_result",
          "data": {
            "text/plain": [
              "(45211,)"
            ]
          },
          "metadata": {},
          "execution_count": 159
        }
      ],
      "source": [
        "y.shape"
      ]
    },
    {
      "cell_type": "code",
      "execution_count": 159,
      "metadata": {
        "id": "oI_tYxyCtPqD"
      },
      "outputs": [],
      "source": []
    },
    {
      "cell_type": "code",
      "execution_count": 160,
      "metadata": {
        "id": "prusynXD_LGs"
      },
      "outputs": [],
      "source": [
        "\n",
        "# shuffle the data\n",
        "np.random.seed(123)\n",
        "bank = bank.sample(frac=1, random_state=123).reset_index(drop=True)\n",
        "\n",
        "# define the percentage of data to use for training\n",
        "train_pct = 0.8\n",
        "\n",
        "# split the data into training and testing sets\n",
        "train_data = bank.iloc[:int(len(bank)*train_pct)]\n",
        "test_data = bank.iloc[int(len(bank)*train_pct):]\n",
        "\n",
        "# separate the features from the target variable\n",
        "X_train = train_data.drop(columns=['y'])\n",
        "y_train = train_data['y']\n",
        "X_test = test_data.drop(columns=['y'])\n",
        "y_test = test_data['y']\n",
        "\n",
        "import math\n",
        "\n",
        "# Define train-test-split function\n",
        "def train_test_split(X, y, test_size=0.2, random_state=None):\n",
        "    if random_state:\n",
        "        np.random.seed(random_state)\n",
        "    \n",
        "    n_samples = X.shape[0]\n",
        "    n_test = int(test_size * n_samples)\n",
        "    \n",
        "    shuffled_indices = np.random.permutation(n_samples)\n",
        "    test_indices = shuffled_indices[:n_test]\n",
        "    train_indices = shuffled_indices[n_test:]\n",
        "    \n",
        "    X_train, y_train = X[train_indices], y[train_indices]\n",
        "    X_test, y_test = X[test_indices], y[test_indices]\n",
        "    \n",
        "    return X_train, X_test, y_train, y_test\n",
        "\n",
        "# Define KNN classifier\n",
        "class KNN:\n",
        "    def __init__(self, k):\n",
        "        self.k = k\n",
        "        \n",
        "    def fit(self, X_train, y_train):\n",
        "        self.X_train = X_train\n",
        "        self.y_train = y_train\n",
        "        \n",
        "    def predict(self, X_test):\n",
        "        y_pred = []\n",
        "        for x in X_test:\n",
        "            # Calculate distances between x and all training data points\n",
        "            distances = []\n",
        "            for x_train in self.X_train:\n",
        "                dist = math.sqrt(np.sum((x - x_train) ** 2))\n",
        "                distances.append(dist)\n",
        "            \n",
        "            # Get indices of the k nearest neighbors\n",
        "            k_indices = np.argsort(distances)[:self.k]\n",
        "            \n",
        "            # Get the labels of the k nearest neighbors\n",
        "            k_labels = [self.y_train[i] for i in k_indices]\n",
        "            \n",
        "            # Predict the label of x based on the majority label of k nearest neighbors\n",
        "            most_common_label = max(set(k_labels), key=k_labels.count)\n",
        "            y_pred.append(most_common_label)\n",
        "        \n",
        "        return np.array(y_pred)\n",
        "\n",
        "# Define pipeline for KNN classification\n",
        "class Pipeline:\n",
        "    def __init__(self, steps):\n",
        "        self.steps = steps\n",
        "        \n",
        "    def fit(self, X_train, y_train):\n",
        "        for step in self.steps:\n",
        "            step[1].fit(X_train, y_train)\n",
        "    \n",
        "    def predict(self, X_test):\n",
        "        X_data = X_test\n",
        "        for step in self.steps:\n",
        "            X_data = step[1].predict(X_data)\n",
        "        return X_data\n"
      ]
    },
    {
      "cell_type": "code",
      "source": [],
      "metadata": {
        "id": "hyt5xwN8PV2S"
      },
      "execution_count": null,
      "outputs": []
    },
    {
      "cell_type": "code",
      "execution_count": 161,
      "metadata": {
        "id": "O7JIRISveOrs"
      },
      "outputs": [],
      "source": [
        "# Split data into training and testing sets\n",
        "X_train, X_test, y_train, y_test = train_test_split(X, y, test_size=0.2, random_state=42)\n",
        "\n",
        "# Define pipeline with KNN classifier\n",
        "pipe = Pipeline([\n",
        "    ('knn', KNN(k=5))\n",
        "])\n",
        "\n",
        "# Fit pipeline to training data\n",
        "pipe.fit(X_train, y_train)\n",
        "\n",
        "# Make predictions on testing data\n",
        "y_pred = pipe.predict(X_test)\n"
      ]
    },
    {
      "cell_type": "code",
      "execution_count": 162,
      "metadata": {
        "colab": {
          "base_uri": "https://localhost:8080/"
        },
        "id": "sPiV3sxVscn5",
        "outputId": "2829bfa3-3deb-4887-a9b5-99dd1a33853f"
      },
      "outputs": [
        {
          "output_type": "stream",
          "name": "stdout",
          "text": [
            "Accuracy: 0.87\n",
            "Precision: 0.40\n",
            "Recall: 0.19\n",
            "F1 Score: 0.26\n"
          ]
        }
      ],
      "source": [
        "# Calculate accuracy\n",
        "accuracy = sum(y_pred == y_test) / len(y_test)\n",
        "print(\"Accuracy: {:.2f}\".format(accuracy))\n",
        "\n",
        "# Calculate precision\n",
        "true_positives = sum((y_pred == 1) & (y_test == 1))\n",
        "false_positives = sum((y_pred == 1) & (y_test == 0))\n",
        "precision = true_positives / (true_positives + false_positives)\n",
        "print(\"Precision: {:.2f}\".format(precision))\n",
        "\n",
        "# Calculate recall\n",
        "false_negatives = sum((y_pred == 0) & (y_test == 1))\n",
        "recall = true_positives / (true_positives + false_negatives)\n",
        "print(\"Recall: {:.2f}\".format(recall))\n",
        "\n",
        "# Calculate F1 score\n",
        "f1_score = 2 * (precision * recall) / (precision + recall)\n",
        "print(\"F1 Score: {:.2f}\".format(f1_score))\n"
      ]
    },
    {
      "cell_type": "code",
      "execution_count": 162,
      "metadata": {
        "id": "7Ht_btguSUDz"
      },
      "outputs": [],
      "source": []
    }
  ],
  "metadata": {
    "colab": {
      "provenance": []
    },
    "kernelspec": {
      "display_name": "Python 3",
      "name": "python3"
    },
    "language_info": {
      "name": "python"
    }
  },
  "nbformat": 4,
  "nbformat_minor": 0
}