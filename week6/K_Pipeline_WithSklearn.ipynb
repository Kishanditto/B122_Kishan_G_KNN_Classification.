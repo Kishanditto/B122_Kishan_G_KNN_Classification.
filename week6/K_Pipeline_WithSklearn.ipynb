{
 "cells": [
  {
   "cell_type": "code",
   "execution_count": 2,
   "id": "6cf83e20",
   "metadata": {},
   "outputs": [
    {
     "name": "stdout",
     "output_type": "stream",
     "text": [
      "Model accuracy: 0.992 (0.025)\n",
      "Test accuracy: 1.0\n"
     ]
    }
   ],
   "source": [
    "# Import necessary libraries\n",
    "import numpy as np\n",
    "import pandas as pd\n",
    "from sklearn.preprocessing import StandardScaler\n",
    "from sklearn.neighbors import KNeighborsClassifier\n",
    "from sklearn.pipeline import Pipeline\n",
    "import warnings\n",
    "warnings.filterwarnings('ignore')\n",
    "from sklearn.model_selection import cross_val_score, train_test_split\n",
    "\n",
    "# Load the dataset\n",
    "iris = pd.read_csv('iris.csv')\n",
    "\n",
    "# Split the data into features and target variable\n",
    "X = iris.drop(['Species'], axis=1)\n",
    "y = iris['Species']\n",
    "\n",
    "# Preprocessing pipeline\n",
    "preprocessor = Pipeline(steps=[\n",
    "    ('scaler', StandardScaler())\n",
    "])\n",
    "\n",
    "# Define the KNN model pipeline\n",
    "knn = KNeighborsClassifier()\n",
    "\n",
    "model_pipeline = Pipeline(steps=[\n",
    "    ('preprocessor', preprocessor),\n",
    "    ('classifier', knn)\n",
    "])\n",
    "\n",
    "# Split the data into training and testing sets\n",
    "X_train, X_test, y_train, y_test = train_test_split(X, y, test_size=0.2, random_state=42)\n",
    "\n",
    "# Evaluate the model performance using cross-validation\n",
    "scores = cross_val_score(model_pipeline, X_train, y_train, cv=10)\n",
    "print('Model accuracy: %.3f (%.3f)' % (np.mean(scores), np.std(scores)))\n",
    "\n",
    "# Fit the model to the training data\n",
    "model_pipeline.fit(X_train, y_train)\n",
    "\n",
    "# Evaluate the model performance on the testing data\n",
    "test_accuracy = model_pipeline.score(X_test, y_test)\n",
    "print('Test accuracy:', test_accuracy)\n"
   ]
  },
  {
   "cell_type": "code",
   "execution_count": null,
   "id": "47ae8ce6",
   "metadata": {},
   "outputs": [],
   "source": [
    "def "
   ]
  }
 ],
 "metadata": {
  "kernelspec": {
   "display_name": "Python 3 (ipykernel)",
   "language": "python",
   "name": "python3"
  },
  "language_info": {
   "codemirror_mode": {
    "name": "ipython",
    "version": 3
   },
   "file_extension": ".py",
   "mimetype": "text/x-python",
   "name": "python",
   "nbconvert_exporter": "python",
   "pygments_lexer": "ipython3",
   "version": "3.9.13"
  }
 },
 "nbformat": 4,
 "nbformat_minor": 5
}
